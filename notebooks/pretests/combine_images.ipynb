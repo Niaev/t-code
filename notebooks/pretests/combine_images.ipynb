{
 "cells": [
  {
   "cell_type": "code",
   "execution_count": 3,
   "id": "ad1bf145",
   "metadata": {},
   "outputs": [],
   "source": [
    "# General imports\n",
    "import sys\n",
    "\n",
    "# Image imports\n",
    "from PIL import Image"
   ]
  },
  {
   "cell_type": "markdown",
   "id": "ee4a3222",
   "metadata": {},
   "source": [
    "# Combine Images\n",
    "\n",
    "This is an attempt to combine several images in all forms possible: horizontally, vertically, one above another (in case of images with transparency) and more."
   ]
  },
  {
   "cell_type": "code",
   "execution_count": 5,
   "id": "804ea94e",
   "metadata": {},
   "outputs": [],
   "source": [
    "img_folder = '../../imgs/'\n",
    "abc_img = img_folder + 'alphabet/'\n",
    "other_img = img_folder + 'other/'"
   ]
  },
  {
   "cell_type": "markdown",
   "id": "f5e26254",
   "metadata": {},
   "source": [
    "## Horizontally"
   ]
  },
  {
   "cell_type": "code",
   "execution_count": 26,
   "id": "c7b5632d",
   "metadata": {},
   "outputs": [
    {
     "data": {
      "image/png": "[encoded data removed]",
      "text/plain": [
       "<PIL.Image.Image image mode=RGBA size=48x16>"
      ]
     },
     "metadata": {},
     "output_type": "display_data"
    }
   ],
   "source": [
    "files = [\n",
    "    abc_img + 'a.png',\n",
    "    abc_img + 'b.png',\n",
    "    abc_img + 'c.png',\n",
    "]\n",
    "\n",
    "imgs = [Image.open(file) for file in files]\n",
    "ws, hs = zip(*(img.size for img in imgs))\n",
    "\n",
    "w_total = sum(ws)\n",
    "h_total = max(hs)\n",
    "\n",
    "horizontal_img = Image.new('RGBA', (w_total, h_total))\n",
    "\n",
    "x_offset = 0\n",
    "for img in imgs:\n",
    "    horizontal_img.paste(img, (x_offset, 0))\n",
    "    x_offset += img.size[0]\n",
    "\n",
    "display(horizontal_img)"
   ]
  },
  {
   "cell_type": "markdown",
   "id": "3100bf16",
   "metadata": {},
   "source": [
    "## Vertically"
   ]
  },
  {
   "cell_type": "code",
   "execution_count": 28,
   "id": "fcf3ecea",
   "metadata": {},
   "outputs": [
    {
     "data": {
      "image/png": "[encoded data removed]",
      "text/plain": [
       "<PIL.Image.Image image mode=RGBA size=16x48>"
      ]
     },
     "metadata": {},
     "output_type": "display_data"
    }
   ],
   "source": [
    "files = [\n",
    "    abc_img + 'a.png',\n",
    "    abc_img + 'b.png',\n",
    "    abc_img + 'c.png',\n",
    "]\n",
    "\n",
    "imgs = [Image.open(file) for file in files]\n",
    "ws, hs = zip(*(img.size for img in imgs))\n",
    "\n",
    "w_total = max(ws)\n",
    "h_total = sum(hs)\n",
    "\n",
    "vertical_img = Image.new('RGBA', (w_total, h_total))\n",
    "\n",
    "y_offset = 0\n",
    "for img in imgs:\n",
    "    vertical_img.paste(img, (0, y_offset))\n",
    "    y_offset += img.size[1]\n",
    "\n",
    "display(vertical_img)"
   ]
  },
  {
   "cell_type": "markdown",
   "id": "9004a07e",
   "metadata": {},
   "source": [
    "## Diagonally"
   ]
  },
  {
   "cell_type": "code",
   "execution_count": 29,
   "id": "4d80b583",
   "metadata": {},
   "outputs": [
    {
     "data": {
      "image/png": "[encoded data removed]",
      "text/plain": [
       "<PIL.Image.Image image mode=RGBA size=48x48>"
      ]
     },
     "metadata": {},
     "output_type": "display_data"
    }
   ],
   "source": [
    "files = [\n",
    "    abc_img + 'a.png',\n",
    "    abc_img + 'b.png',\n",
    "    abc_img + 'c.png',\n",
    "]\n",
    "\n",
    "imgs = [Image.open(file) for file in files]\n",
    "ws, hs = zip(*(img.size for img in imgs))\n",
    "\n",
    "w_total = sum(ws)\n",
    "h_total = sum(hs)\n",
    "\n",
    "diagonal_img = Image.new('RGBA', (w_total, h_total))\n",
    "\n",
    "x_offset = 0\n",
    "y_offset = 0\n",
    "for img in imgs:\n",
    "    diagonal_img.paste(img, (x_offset, y_offset))\n",
    "    x_offset += img.size[0]\n",
    "    y_offset += img.size[1]\n",
    "\n",
    "display(diagonal_img)"
   ]
  },
  {
   "cell_type": "markdown",
   "id": "6af9797a",
   "metadata": {},
   "source": [
    "You cannot see here, but the blank spaces of the image are all filled with a transparent background. We want all the unused background to be white, so let's do it.\n",
    "\n",
    "There are ways of doing it with the already created object, but let's do it again because it is something that can be solved in a more simple way. Watch out for the comment."
   ]
  },
  {
   "cell_type": "code",
   "execution_count": 30,
   "id": "824497a4",
   "metadata": {},
   "outputs": [
    {
     "data": {
      "image/png": "[encoded data removed]",
      "text/plain": [
       "<PIL.Image.Image image mode=RGBA size=48x48>"
      ]
     },
     "metadata": {},
     "output_type": "display_data"
    }
   ],
   "source": [
    "files = [\n",
    "    abc_img + 'a.png',\n",
    "    abc_img + 'b.png',\n",
    "    abc_img + 'c.png',\n",
    "]\n",
    "\n",
    "imgs = [Image.open(file) for file in files]\n",
    "ws, hs = zip(*(img.size for img in imgs))\n",
    "\n",
    "w_total = sum(ws)\n",
    "h_total = sum(hs)\n",
    "\n",
    "# See that a third argument was given, which is the default background color for the new image we are creating\n",
    "diagonal_img = Image.new('RGBA', (w_total, h_total), 'WHITE')\n",
    "\n",
    "x_offset = 0\n",
    "y_offset = 0\n",
    "for img in imgs:\n",
    "    diagonal_img.paste(img, (x_offset, y_offset))\n",
    "    x_offset += img.size[0]\n",
    "    y_offset += img.size[1]\n",
    "\n",
    "display(diagonal_img)"
   ]
  },
  {
   "cell_type": "markdown",
   "id": "949d2afc",
   "metadata": {},
   "source": [
    "## Above\n",
    "\n",
    "Using an image with transparency to cover another image."
   ]
  },
  {
   "cell_type": "code",
   "execution_count": 32,
   "id": "706c2b84",
   "metadata": {},
   "outputs": [
    {
     "data": {
      "image/png": "[encoded data removed]",
      "text/plain": [
       "<PIL.PngImagePlugin.PngImageFile image mode=RGBA size=16x16>"
      ]
     },
     "metadata": {},
     "output_type": "display_data"
    }
   ],
   "source": [
    "border_file = other_img + 'border.png'\n",
    "border_img = Image.open(border_file)\n",
    "display(border_img)"
   ]
  },
  {
   "cell_type": "markdown",
   "id": "5d54aebd",
   "metadata": {},
   "source": [
    "The image above is only a black border of 16x16 pixels and the rest is empty, transparent, space.\n",
    "\n",
    "It's important to note that it will only work properly if the base image was created with `'RGBA'` as the first parameter."
   ]
  },
  {
   "cell_type": "code",
   "execution_count": 27,
   "id": "f6acca68",
   "metadata": {},
   "outputs": [
    {
     "data": {
      "image/png": "[encoded data removed]",
      "text/plain": [
       "<PIL.Image.Image image mode=RGBA size=48x16>"
      ]
     },
     "metadata": {},
     "output_type": "display_data"
    }
   ],
   "source": [
    "horizontal_img.paste(border_img, (0,0), border_img)\n",
    "display(horizontal_img)"
   ]
  },
  {
   "cell_type": "code",
   "execution_count": 31,
   "id": "794644ba",
   "metadata": {},
   "outputs": [
    {
     "data": {
      "image/png": "[encoded data removed]",
      "text/plain": [
       "<PIL.Image.Image image mode=RGBA size=16x48>"
      ]
     },
     "metadata": {},
     "output_type": "display_data"
    }
   ],
   "source": [
    "vertical_img.paste(border_img, (0,0), border_img)\n",
    "display(vertical_img)"
   ]
  },
  {
   "cell_type": "code",
   "execution_count": 33,
   "id": "163a1b4d",
   "metadata": {},
   "outputs": [
    {
     "data": {
      "image/png": "[encoded data removed]",
      "text/plain": [
       "<PIL.Image.Image image mode=RGBA size=48x48>"
      ]
     },
     "metadata": {},
     "output_type": "display_data"
    }
   ],
   "source": [
    "diagonal_img.paste(border_img, (0,0), border_img)\n",
    "display(diagonal_img)"
   ]
  }
 ],
 "metadata": {
  "kernelspec": {
   "display_name": "tcode",
   "language": "python",
   "name": "tcode"
  },
  "language_info": {
   "codemirror_mode": {
    "name": "ipython",
    "version": 3
   },
   "file_extension": ".py",
   "mimetype": "text/x-python",
   "name": "python",
   "nbconvert_exporter": "python",
   "pygments_lexer": "ipython3",
   "version": "3.10.12"
  }
 },
 "nbformat": 4,
 "nbformat_minor": 5
}
